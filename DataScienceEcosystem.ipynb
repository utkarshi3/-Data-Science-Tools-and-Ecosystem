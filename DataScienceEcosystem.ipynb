{
 "cells": [
  {
   "cell_type": "markdown",
   "id": "05cbfe2b",
   "metadata": {},
   "source": [
    "# Data Science Tools and Ecosystem"
   ]
  },
  {
   "cell_type": "markdown",
   "id": "6d94ea4f",
   "metadata": {},
   "source": [
    "In this notebook, Data Science Tools and Ecosystem are summarized."
   ]
  },
  {
   "cell_type": "markdown",
   "id": "bee9fd1c",
   "metadata": {},
   "source": [
    "Some of the popular languages that Data Scientists use are:"
   ]
  },
  {
   "cell_type": "markdown",
   "id": "f8abf6f7",
   "metadata": {},
   "source": [
    "1. Python\n",
    "2. R\n",
    "3. SQL"
   ]
  },
  {
   "cell_type": "markdown",
   "id": "65665c45",
   "metadata": {},
   "source": [
    "Some of the commonly used libraries used by Data Scientists include:\n",
    "\n",
    "1. numpy\n",
    "2. pandas\n",
    "3. matplotlib\n",
    "4. plotly\n",
    "5. seaborn\n",
    "6. scikit-learn\n",
    "7. TensorFlow\n",
    "8. PyTorch"
   ]
  },
  {
   "cell_type": "markdown",
   "id": "f4734f6d",
   "metadata": {},
   "source": [
    "## Data Science Tools"
   ]
  },
  {
   "cell_type": "markdown",
   "id": "9e7a76d8",
   "metadata": {},
   "source": [
    "### Open Source Tools"
   ]
  },
  {
   "attachments": {},
   "cell_type": "markdown",
   "id": "9f481313",
   "metadata": {},
   "source": [
    "| Data Management | Data Tranformation | Data Visualisation | Model Deployement | Model Monitoring |\n",
    "| :-: | :-: | :-: | :-: | :-: |\n",
    "| MySQL | Apache Airflow | Pixie Dust | Seldon | ModelDB\n",
    "| PostgreSQL | Apache SparkSQL | Hue | Apache PredictionIO | Prometheus | \n",
    "| MongoDB | KubeFlow | Kibana | Kubernetes | IBM AI Fairness 360 |\n",
    "| Hadoop File System | NodeRED | Apache Superset | MLeap | IBM AI Explainability AI 360 |"
   ]
  },
  {
   "cell_type": "markdown",
   "id": "e15330c6",
   "metadata": {},
   "source": [
    "### Commercial Tools"
   ]
  },
  {
   "cell_type": "markdown",
   "id": "237035d4",
   "metadata": {},
   "source": [
    "| Data Management | Data Integration | Data Visualisation | Model Building |\n",
    "| :-: | :-: | :-: | :-: |\n",
    "| Oracle Database | Informatica | Microsoft BI | SPSS Modeler |\n",
    "| Microsoft SQL Server | Talend | Tablaeu | SAS Enterprise |\n",
    "| IBM DB2 | IBM InfoSphere DataStage | IBM Cognos Analytics | |"
   ]
  },
  {
   "cell_type": "markdown",
   "id": "5a8ebe19",
   "metadata": {},
   "source": [
    "Currently, the most famous development environment data scientists are using is “Jupyter,” which emerged as a tool for interactive Python programming. Jupyter now supports more than a hundred different programming languages through “kernels.”"
   ]
  },
  {
   "cell_type": "markdown",
   "id": "ed030942",
   "metadata": {},
   "source": [
    "### Below are a few examples of evaluating arithmetic expressions in Python"
   ]
  },
  {
   "cell_type": "code",
   "execution_count": 5,
   "id": "1704257c",
   "metadata": {},
   "outputs": [
    {
     "data": {
      "text/plain": [
       "17"
      ]
     },
     "execution_count": 5,
     "metadata": {},
     "output_type": "execute_result"
    }
   ],
   "source": [
    "(3*4)+5"
   ]
  },
  {
   "cell_type": "markdown",
   "id": "fd916546",
   "metadata": {},
   "source": [
    "This a simple arithmetic expression to mutiply then add integers"
   ]
  },
  {
   "cell_type": "code",
   "execution_count": 6,
   "id": "b2338363",
   "metadata": {},
   "outputs": [
    {
     "name": "stdout",
     "output_type": "stream",
     "text": [
      "200 mins = 3.33 hours\n"
     ]
    }
   ],
   "source": [
    "mins = 200\n",
    "hrs = mins/60\n",
    "\n",
    "print(f\"{mins} mins = {hrs:.2f} hours\")"
   ]
  },
  {
   "cell_type": "markdown",
   "id": "73037577",
   "metadata": {},
   "source": [
    "This will convert 200 minutes to hours by dividing by 60"
   ]
  },
  {
   "cell_type": "markdown",
   "id": "6f2d4439",
   "metadata": {},
   "source": [
    "### Objectives:"
   ]
  },
  {
   "cell_type": "markdown",
   "id": "8be7dfff",
   "metadata": {},
   "source": [
    "~ List popular languages for Data Science - \n",
    "  1. Python\n",
    "  2. R\n",
    "  3. SQL\n",
    "  \n",
    "~ The most famous development environment data scientists are using is “Jupyter Notebook\".\n",
    "\n",
    "~ Various libraries: scientific, visualization, machine learning, and deep learning.\n",
    "\n",
    "For scientific - use numpy and pandas\n",
    "For visualisation - use matplotlib, seaborn\n",
    "For ML - use scikit-learn\n",
    "For Deep Learning - use PyTorch, TensorFlow, Keras\n",
    "\n",
    "~ Learnt about R, RStudio including syntax for plotting a graph using ggplot\n",
    "\n",
    "~ Learnt about git ang github"
   ]
  },
  {
   "cell_type": "markdown",
   "id": "328a40e9",
   "metadata": {},
   "source": [
    "# Author"
   ]
  },
  {
   "cell_type": "markdown",
   "id": "c94110a2",
   "metadata": {},
   "source": [
    "### Utkarshi Birla"
   ]
  }
 ],
 "metadata": {
  "kernelspec": {
   "display_name": "Python 3 (ipykernel)",
   "language": "python",
   "name": "python3"
  },
  "language_info": {
   "codemirror_mode": {
    "name": "ipython",
    "version": 3
   },
   "file_extension": ".py",
   "mimetype": "text/x-python",
   "name": "python",
   "nbconvert_exporter": "python",
   "pygments_lexer": "ipython3",
   "version": "3.9.12"
  }
 },
 "nbformat": 4,
 "nbformat_minor": 5
}
